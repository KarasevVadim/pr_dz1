{
 "cells": [
  {
   "cell_type": "code",
   "execution_count": 52,
   "metadata": {},
   "outputs": [],
   "source": [
    "import numpy as np\n",
    "import pandas as pd\n",
    "\n",
    "from sklearn.linear_model import LinearRegression"
   ]
  },
  {
   "cell_type": "markdown",
   "metadata": {},
   "source": [
    "заменим лекционный датасет на условные ср чек, кол чеков, трафик и производная первых двух - выручка\n",
    "и возьмем 5000 записей"
   ]
  },
  {
   "cell_type": "code",
   "execution_count": 53,
   "metadata": {},
   "outputs": [
    {
     "data": {
      "text/html": [
       "<div>\n",
       "<style scoped>\n",
       "    .dataframe tbody tr th:only-of-type {\n",
       "        vertical-align: middle;\n",
       "    }\n",
       "\n",
       "    .dataframe tbody tr th {\n",
       "        vertical-align: top;\n",
       "    }\n",
       "\n",
       "    .dataframe thead th {\n",
       "        text-align: right;\n",
       "    }\n",
       "</style>\n",
       "<table border=\"1\" class=\"dataframe\">\n",
       "  <thead>\n",
       "    <tr style=\"text-align: right;\">\n",
       "      <th></th>\n",
       "      <th>sr_4ek</th>\n",
       "      <th>kol_4ek</th>\n",
       "      <th>traffic</th>\n",
       "      <th>sum_rub</th>\n",
       "    </tr>\n",
       "  </thead>\n",
       "  <tbody>\n",
       "    <tr>\n",
       "      <th>0</th>\n",
       "      <td>47</td>\n",
       "      <td>195</td>\n",
       "      <td>277</td>\n",
       "      <td>9165</td>\n",
       "    </tr>\n",
       "    <tr>\n",
       "      <th>1</th>\n",
       "      <td>1042</td>\n",
       "      <td>124</td>\n",
       "      <td>57</td>\n",
       "      <td>129208</td>\n",
       "    </tr>\n",
       "    <tr>\n",
       "      <th>2</th>\n",
       "      <td>494</td>\n",
       "      <td>175</td>\n",
       "      <td>223</td>\n",
       "      <td>86450</td>\n",
       "    </tr>\n",
       "    <tr>\n",
       "      <th>3</th>\n",
       "      <td>2070</td>\n",
       "      <td>127</td>\n",
       "      <td>525</td>\n",
       "      <td>262890</td>\n",
       "    </tr>\n",
       "    <tr>\n",
       "      <th>4</th>\n",
       "      <td>2447</td>\n",
       "      <td>91</td>\n",
       "      <td>256</td>\n",
       "      <td>222677</td>\n",
       "    </tr>\n",
       "  </tbody>\n",
       "</table>\n",
       "</div>"
      ],
      "text/plain": [
       "   sr_4ek  kol_4ek  traffic  sum_rub\n",
       "0      47      195      277     9165\n",
       "1    1042      124       57   129208\n",
       "2     494      175      223    86450\n",
       "3    2070      127      525   262890\n",
       "4    2447       91      256   222677"
      ]
     },
     "execution_count": 53,
     "metadata": {},
     "output_type": "execute_result"
    }
   ],
   "source": [
    "# Создаём сэмпл\n",
    "n_samples = 5000\n",
    "\n",
    "sr_4ek = np.random.choice(3000, n_samples) + 21\n",
    "kol_4ek = np.random.choice(200, n_samples) + 15\n",
    "traffic = np.random.choice(600, n_samples) + 45\n",
    "\n",
    "sum_rub = sr_4ek * kol_4ek * 1\n",
    "\n",
    "data = pd.DataFrame({'sr_4ek': sr_4ek, 'kol_4ek': kol_4ek, 'traffic': traffic, 'sum_rub': sum_rub})\n",
    "data.head(5)"
   ]
  },
  {
   "cell_type": "markdown",
   "metadata": {},
   "source": [
    "построим лин регрессию выручки со всеми показателями"
   ]
  },
  {
   "cell_type": "code",
   "execution_count": 54,
   "metadata": {},
   "outputs": [
    {
     "name": "stdout",
     "output_type": "stream",
     "text": [
      "Weights: [1.16669696e+02 1.49918750e+03 1.02800895e+00]\n",
      "Bias: -174208.64642847396\n",
      "Error: 36183.27670298136\n"
     ]
    }
   ],
   "source": [
    "from sklearn.metrics import mean_absolute_error\n",
    "\n",
    "X = data[['sr_4ek', 'kol_4ek', 'traffic']]\n",
    "y = data['sum_rub']\n",
    "reg = LinearRegression().fit(X, y)\n",
    "print('Weights: {}'.format(reg.coef_))\n",
    "print('Bias: {}'.format(reg.intercept_))\n",
    "\n",
    "pred_values = reg.predict(data[['sr_4ek', 'kol_4ek', 'traffic']])\n",
    "print('Error: {}'.format(mean_absolute_error(pred_values, y)))"
   ]
  },
  {
   "cell_type": "markdown",
   "metadata": {},
   "source": [
    "получаем значительную ошибку"
   ]
  },
  {
   "cell_type": "markdown",
   "metadata": {},
   "source": [
    "рассмотрим лин регрессию выручки со ср чеком и кол чеков"
   ]
  },
  {
   "cell_type": "code",
   "execution_count": 55,
   "metadata": {},
   "outputs": [
    {
     "name": "stdout",
     "output_type": "stream",
     "text": [
      "Weights: [ 116.66957381 1499.21061956]\n",
      "Bias: -173852.01117639305\n",
      "Error: 36187.21793659117\n"
     ]
    }
   ],
   "source": [
    "X = data[['sr_4ek', 'kol_4ek']]\n",
    "y = data['sum_rub']\n",
    "reg = LinearRegression().fit(X, y)\n",
    "print('Weights: {}'.format(reg.coef_))\n",
    "print('Bias: {}'.format(reg.intercept_))\n",
    "\n",
    "pred_values = reg.predict(data[['sr_4ek', 'kol_4ek']])\n",
    "print('Error: {}'.format(mean_absolute_error(pred_values, y)))"
   ]
  },
  {
   "cell_type": "markdown",
   "metadata": {},
   "source": [
    "честно говоря не очень понимаю почему ошибка по прежнему значительна ведь выручка я вляется произведением этих показателей("
   ]
  },
  {
   "cell_type": "code",
   "execution_count": 56,
   "metadata": {},
   "outputs": [
    {
     "data": {
      "text/plain": [
       "array([123977.52960613, 133619.80155486, 146144.61670641, ...,\n",
       "       230991.67377736, 306786.91330345, 249128.20308295])"
      ]
     },
     "execution_count": 56,
     "metadata": {},
     "output_type": "execute_result"
    }
   ],
   "source": [
    "(pred_values)"
   ]
  },
  {
   "cell_type": "markdown",
   "metadata": {},
   "source": [
    "создадим новый производный признак второй показатель выручки как произведение ср чека на кол чеков вычисленное как произведение вх трафика на условную конверсию в 30%"
   ]
  },
  {
   "cell_type": "code",
   "execution_count": 57,
   "metadata": {},
   "outputs": [
    {
     "data": {
      "text/html": [
       "<div>\n",
       "<style scoped>\n",
       "    .dataframe tbody tr th:only-of-type {\n",
       "        vertical-align: middle;\n",
       "    }\n",
       "\n",
       "    .dataframe tbody tr th {\n",
       "        vertical-align: top;\n",
       "    }\n",
       "\n",
       "    .dataframe thead th {\n",
       "        text-align: right;\n",
       "    }\n",
       "</style>\n",
       "<table border=\"1\" class=\"dataframe\">\n",
       "  <thead>\n",
       "    <tr style=\"text-align: right;\">\n",
       "      <th></th>\n",
       "      <th>sr_4ek</th>\n",
       "      <th>kol_4ek</th>\n",
       "      <th>traffic</th>\n",
       "      <th>sum_rub</th>\n",
       "      <th>sum2</th>\n",
       "    </tr>\n",
       "  </thead>\n",
       "  <tbody>\n",
       "    <tr>\n",
       "      <th>0</th>\n",
       "      <td>47</td>\n",
       "      <td>195</td>\n",
       "      <td>277</td>\n",
       "      <td>9165</td>\n",
       "      <td>3905.7</td>\n",
       "    </tr>\n",
       "    <tr>\n",
       "      <th>1</th>\n",
       "      <td>1042</td>\n",
       "      <td>124</td>\n",
       "      <td>57</td>\n",
       "      <td>129208</td>\n",
       "      <td>17818.2</td>\n",
       "    </tr>\n",
       "    <tr>\n",
       "      <th>2</th>\n",
       "      <td>494</td>\n",
       "      <td>175</td>\n",
       "      <td>223</td>\n",
       "      <td>86450</td>\n",
       "      <td>33048.6</td>\n",
       "    </tr>\n",
       "    <tr>\n",
       "      <th>3</th>\n",
       "      <td>2070</td>\n",
       "      <td>127</td>\n",
       "      <td>525</td>\n",
       "      <td>262890</td>\n",
       "      <td>326025.0</td>\n",
       "    </tr>\n",
       "    <tr>\n",
       "      <th>4</th>\n",
       "      <td>2447</td>\n",
       "      <td>91</td>\n",
       "      <td>256</td>\n",
       "      <td>222677</td>\n",
       "      <td>187929.6</td>\n",
       "    </tr>\n",
       "  </tbody>\n",
       "</table>\n",
       "</div>"
      ],
      "text/plain": [
       "   sr_4ek  kol_4ek  traffic  sum_rub      sum2\n",
       "0      47      195      277     9165    3905.7\n",
       "1    1042      124       57   129208   17818.2\n",
       "2     494      175      223    86450   33048.6\n",
       "3    2070      127      525   262890  326025.0\n",
       "4    2447       91      256   222677  187929.6"
      ]
     },
     "execution_count": 57,
     "metadata": {},
     "output_type": "execute_result"
    }
   ],
   "source": [
    "# Создаем новый признак\n",
    "data['sum2'] = data['sr_4ek'] * data['traffic']*30/100\n",
    "data.head(5)"
   ]
  },
  {
   "cell_type": "code",
   "execution_count": 58,
   "metadata": {},
   "outputs": [
    {
     "data": {
      "text/plain": [
       "5000"
      ]
     },
     "execution_count": 58,
     "metadata": {},
     "output_type": "execute_result"
    }
   ],
   "source": [
    "len(data)"
   ]
  },
  {
   "cell_type": "markdown",
   "metadata": {},
   "source": [
    "построим лин регрессию выручки с вх трафиком"
   ]
  },
  {
   "cell_type": "code",
   "execution_count": 59,
   "metadata": {},
   "outputs": [
    {
     "name": "stdout",
     "output_type": "stream",
     "text": [
      "Weights: [0.0008415]\n",
      "Bias: 216.2774290660933\n",
      "Error: 112.6008207346993\n"
     ]
    }
   ],
   "source": [
    "X = data[['sum2']]\n",
    "y = data['traffic']\n",
    "reg = LinearRegression().fit(X, y)\n",
    "print('Weights: {}'.format(reg.coef_))\n",
    "print('Bias: {}'.format(reg.intercept_))\n",
    "\n",
    "pred_values = reg.predict(data[['sum2']])\n",
    "print('Error: {}'.format(mean_absolute_error(pred_values, y)))"
   ]
  },
  {
   "cell_type": "markdown",
   "metadata": {},
   "source": [
    "получаем  лин регрессию двух показателей с минимальной ошибкой относительно ср значения выручки"
   ]
  },
  {
   "cell_type": "code",
   "execution_count": 60,
   "metadata": {},
   "outputs": [
    {
     "data": {
      "text/plain": [
       "0      3905.7\n",
       "1     17818.2\n",
       "2     33048.6\n",
       "3    326025.0\n",
       "4    187929.6\n",
       "Name: sum2, dtype: float64"
      ]
     },
     "execution_count": 60,
     "metadata": {},
     "output_type": "execute_result"
    }
   ],
   "source": [
    "data['sum2'].head()"
   ]
  },
  {
   "cell_type": "code",
   "execution_count": 61,
   "metadata": {},
   "outputs": [
    {
     "name": "stdout",
     "output_type": "stream",
     "text": [
      "[277  57 223 ... 118 299 552]\n"
     ]
    },
    {
     "data": {
      "text/plain": [
       "array([219.56408227, 231.27147471, 244.08788225, ..., 304.33418688,\n",
       "       363.31773406, 583.6110989 ])"
      ]
     },
     "execution_count": 61,
     "metadata": {},
     "output_type": "execute_result"
    }
   ],
   "source": [
    "print(traffic)\n",
    "(pred_values)\n"
   ]
  },
  {
   "cell_type": "markdown",
   "metadata": {},
   "source": [
    "вот здесь я не очень понимаю, почему предсказанные значения выручки значительно отличаются от исходных"
   ]
  },
  {
   "cell_type": "code",
   "execution_count": 11,
   "metadata": {},
   "outputs": [
    {
     "data": {
      "text/plain": [
       "5000"
      ]
     },
     "execution_count": 11,
     "metadata": {},
     "output_type": "execute_result"
    }
   ],
   "source": [
    "len(pred_values)\n"
   ]
  },
  {
   "cell_type": "code",
   "execution_count": 12,
   "metadata": {},
   "outputs": [
    {
     "data": {
      "text/plain": [
       "LinearRegression(copy_X=True, fit_intercept=True, n_jobs=None, normalize=False)"
      ]
     },
     "execution_count": 12,
     "metadata": {},
     "output_type": "execute_result"
    }
   ],
   "source": [
    "reg"
   ]
  },
  {
   "cell_type": "code",
   "execution_count": null,
   "metadata": {},
   "outputs": [],
   "source": []
  }
 ],
 "metadata": {
  "kernelspec": {
   "display_name": "Python 3",
   "language": "python",
   "name": "python3"
  },
  "language_info": {
   "codemirror_mode": {
    "name": "ipython",
    "version": 3
   },
   "file_extension": ".py",
   "mimetype": "text/x-python",
   "name": "python",
   "nbconvert_exporter": "python",
   "pygments_lexer": "ipython3",
   "version": "3.7.3"
  }
 },
 "nbformat": 4,
 "nbformat_minor": 2
}
